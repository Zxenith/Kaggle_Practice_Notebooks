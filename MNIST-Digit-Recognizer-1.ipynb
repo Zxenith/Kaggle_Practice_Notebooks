{
 "cells": [
  {
   "cell_type": "code",
   "execution_count": 1,
   "id": "36a2b56a",
   "metadata": {
    "_cell_guid": "b1076dfc-b9ad-4769-8c92-a6c4dae69d19",
    "_uuid": "8f2839f25d086af736a60e9eeb907d3b93b6e0e5",
    "execution": {
     "iopub.execute_input": "2024-08-31T07:51:37.753255Z",
     "iopub.status.busy": "2024-08-31T07:51:37.752860Z",
     "iopub.status.idle": "2024-08-31T07:51:54.663336Z",
     "shell.execute_reply": "2024-08-31T07:51:54.662120Z"
    },
    "papermill": {
     "duration": 16.926048,
     "end_time": "2024-08-31T07:51:54.666113",
     "exception": false,
     "start_time": "2024-08-31T07:51:37.740065",
     "status": "completed"
    },
    "tags": []
   },
   "outputs": [
    {
     "name": "stderr",
     "output_type": "stream",
     "text": [
      "2024-08-31 07:51:41.159545: E external/local_xla/xla/stream_executor/cuda/cuda_dnn.cc:9261] Unable to register cuDNN factory: Attempting to register factory for plugin cuDNN when one has already been registered\n",
      "2024-08-31 07:51:41.159717: E external/local_xla/xla/stream_executor/cuda/cuda_fft.cc:607] Unable to register cuFFT factory: Attempting to register factory for plugin cuFFT when one has already been registered\n",
      "2024-08-31 07:51:41.325988: E external/local_xla/xla/stream_executor/cuda/cuda_blas.cc:1515] Unable to register cuBLAS factory: Attempting to register factory for plugin cuBLAS when one has already been registered\n"
     ]
    }
   ],
   "source": [
    "# This Python 3 environment comes with many helpful analytics libraries installed\n",
    "# It is defined by the kaggle/python Docker image: https://github.com/kaggle/docker-python\n",
    "# For example, here's several helpful packages to load\n",
    "\n",
    "import numpy as np # linear algebra\n",
    "import pandas as pd # data processing, CSV file I/O (e.g. pd.read_csv)\n",
    "import tensorflow as tf\n",
    "from tensorflow.keras.datasets import mnist\n",
    "from tensorflow.keras.layers import Normalization\n",
    "from tensorflow.keras.models import Sequential\n",
    "from tensorflow.keras.layers import Dense, Dropout, Conv2D, MaxPooling2D, Flatten, Input\n",
    "from matplotlib import pyplot as plt\n",
    "from sklearn.metrics import accuracy_score\n",
    "\n",
    "# Input data files are available in the read-only \"../input/\" directory\n",
    "# For example, running this (by clicking run or pressing Shift+Enter) will list all files under the input directory\n",
    "\n",
    "import os\n",
    "for dirname, _, filenames in os.walk('/kaggle/input'):\n",
    "    for filename in filenames:\n",
    "        print(os.path.join(dirname, filename))\n",
    "\n",
    "# You can write up to 20GB to the current directory (/kaggle/working/) that gets preserved as output when you create a version using \"Save & Run All\" \n",
    "# You can also write temporary files to /kaggle/temp/, but they won't be saved outside of the current session"
   ]
  },
  {
   "cell_type": "code",
   "execution_count": 2,
   "id": "07906fde",
   "metadata": {
    "execution": {
     "iopub.execute_input": "2024-08-31T07:51:54.689312Z",
     "iopub.status.busy": "2024-08-31T07:51:54.688606Z",
     "iopub.status.idle": "2024-08-31T07:51:55.194446Z",
     "shell.execute_reply": "2024-08-31T07:51:55.193237Z"
    },
    "papermill": {
     "duration": 0.520461,
     "end_time": "2024-08-31T07:51:55.197334",
     "exception": false,
     "start_time": "2024-08-31T07:51:54.676873",
     "status": "completed"
    },
    "tags": []
   },
   "outputs": [
    {
     "name": "stdout",
     "output_type": "stream",
     "text": [
      "Downloading data from https://storage.googleapis.com/tensorflow/tf-keras-datasets/mnist.npz\n",
      "\u001b[1m11490434/11490434\u001b[0m \u001b[32m━━━━━━━━━━━━━━━━━━━━\u001b[0m\u001b[37m\u001b[0m \u001b[1m0s\u001b[0m 0us/step\n"
     ]
    }
   ],
   "source": [
    "(x_train, y_train),(x_test,y_test) = mnist.load_data()"
   ]
  },
  {
   "cell_type": "code",
   "execution_count": 3,
   "id": "0bf3f660",
   "metadata": {
    "execution": {
     "iopub.execute_input": "2024-08-31T07:51:55.221650Z",
     "iopub.status.busy": "2024-08-31T07:51:55.221247Z",
     "iopub.status.idle": "2024-08-31T07:51:55.228339Z",
     "shell.execute_reply": "2024-08-31T07:51:55.227156Z"
    },
    "papermill": {
     "duration": 0.022501,
     "end_time": "2024-08-31T07:51:55.230854",
     "exception": false,
     "start_time": "2024-08-31T07:51:55.208353",
     "status": "completed"
    },
    "tags": []
   },
   "outputs": [],
   "source": [
    "norm = Normalization()"
   ]
  },
  {
   "cell_type": "code",
   "execution_count": 4,
   "id": "4b85142c",
   "metadata": {
    "execution": {
     "iopub.execute_input": "2024-08-31T07:51:55.254936Z",
     "iopub.status.busy": "2024-08-31T07:51:55.254364Z",
     "iopub.status.idle": "2024-08-31T07:51:55.814236Z",
     "shell.execute_reply": "2024-08-31T07:51:55.813009Z"
    },
    "papermill": {
     "duration": 0.575034,
     "end_time": "2024-08-31T07:51:55.817204",
     "exception": false,
     "start_time": "2024-08-31T07:51:55.242170",
     "status": "completed"
    },
    "tags": []
   },
   "outputs": [],
   "source": [
    "norm.adapt(x_train)"
   ]
  },
  {
   "cell_type": "code",
   "execution_count": 5,
   "id": "419b1bac",
   "metadata": {
    "execution": {
     "iopub.execute_input": "2024-08-31T07:51:55.841017Z",
     "iopub.status.busy": "2024-08-31T07:51:55.840584Z",
     "iopub.status.idle": "2024-08-31T07:51:56.356539Z",
     "shell.execute_reply": "2024-08-31T07:51:56.355513Z"
    },
    "papermill": {
     "duration": 0.531003,
     "end_time": "2024-08-31T07:51:56.359283",
     "exception": false,
     "start_time": "2024-08-31T07:51:55.828280",
     "status": "completed"
    },
    "tags": []
   },
   "outputs": [],
   "source": [
    "x_ntrain = norm(x_train)\n",
    "x_ntest = norm(x_test)"
   ]
  },
  {
   "cell_type": "code",
   "execution_count": 6,
   "id": "2ee6457f",
   "metadata": {
    "execution": {
     "iopub.execute_input": "2024-08-31T07:51:56.383188Z",
     "iopub.status.busy": "2024-08-31T07:51:56.382320Z",
     "iopub.status.idle": "2024-08-31T07:51:56.917480Z",
     "shell.execute_reply": "2024-08-31T07:51:56.916298Z"
    },
    "papermill": {
     "duration": 0.552644,
     "end_time": "2024-08-31T07:51:56.922877",
     "exception": false,
     "start_time": "2024-08-31T07:51:56.370233",
     "status": "completed"
    },
    "tags": []
   },
   "outputs": [
    {
     "data": {
      "text/plain": [
       "<matplotlib.image.AxesImage at 0x7eaf48e2eef0>"
      ]
     },
     "execution_count": 6,
     "metadata": {},
     "output_type": "execute_result"
    },
    {
     "data": {
      "image/png": "[encoded data removed]",
      "text/plain": [
       "<Figure size 640x480 with 1 Axes>"
      ]
     },
     "metadata": {},
     "output_type": "display_data"
    }
   ],
   "source": [
    "plt.imshow(x_ntrain[0])"
   ]
  },
  {
   "cell_type": "code",
   "execution_count": 7,
   "id": "38c88e9f",
   "metadata": {
    "execution": {
     "iopub.execute_input": "2024-08-31T07:51:56.952427Z",
     "iopub.status.busy": "2024-08-31T07:51:56.952042Z",
     "iopub.status.idle": "2024-08-31T07:51:57.180336Z",
     "shell.execute_reply": "2024-08-31T07:51:57.179106Z"
    },
    "papermill": {
     "duration": 0.246945,
     "end_time": "2024-08-31T07:51:57.183140",
     "exception": false,
     "start_time": "2024-08-31T07:51:56.936195",
     "status": "completed"
    },
    "tags": []
   },
   "outputs": [
    {
     "data": {
      "text/plain": [
       "<matplotlib.image.AxesImage at 0x7eaedc4c4190>"
      ]
     },
     "execution_count": 7,
     "metadata": {},
     "output_type": "execute_result"
    },
    {
     "data": {
      "image/png": "[encoded data removed]",
      "text/plain": [
       "<Figure size 640x480 with 1 Axes>"
      ]
     },
     "metadata": {},
     "output_type": "display_data"
    }
   ],
   "source": [
    "plt.imshow(x_ntrain[1],cmap=plt.cm.binary)"
   ]
  },
  {
   "cell_type": "code",
   "execution_count": 8,
   "id": "3317cdfb",
   "metadata": {
    "execution": {
     "iopub.execute_input": "2024-08-31T07:51:57.209531Z",
     "iopub.status.busy": "2024-08-31T07:51:57.208719Z",
     "iopub.status.idle": "2024-08-31T07:51:57.216008Z",
     "shell.execute_reply": "2024-08-31T07:51:57.214856Z"
    },
    "papermill": {
     "duration": 0.023483,
     "end_time": "2024-08-31T07:51:57.218527",
     "exception": false,
     "start_time": "2024-08-31T07:51:57.195044",
     "status": "completed"
    },
    "tags": []
   },
   "outputs": [
    {
     "data": {
      "text/plain": [
       "TensorShape([60000, 28, 28])"
      ]
     },
     "execution_count": 8,
     "metadata": {},
     "output_type": "execute_result"
    }
   ],
   "source": [
    "x_ntrain.shape"
   ]
  },
  {
   "cell_type": "code",
   "execution_count": 9,
   "id": "02ef4d36",
   "metadata": {
    "execution": {
     "iopub.execute_input": "2024-08-31T07:51:57.244199Z",
     "iopub.status.busy": "2024-08-31T07:51:57.243827Z",
     "iopub.status.idle": "2024-08-31T07:51:57.249034Z",
     "shell.execute_reply": "2024-08-31T07:51:57.247760Z"
    },
    "papermill": {
     "duration": 0.020971,
     "end_time": "2024-08-31T07:51:57.251442",
     "exception": false,
     "start_time": "2024-08-31T07:51:57.230471",
     "status": "completed"
    },
    "tags": []
   },
   "outputs": [],
   "source": [
    "IMG_SIZE = 28"
   ]
  },
  {
   "cell_type": "code",
   "execution_count": null,
   "id": "e914ae8e",
   "metadata": {
    "papermill": {
     "duration": 0.012031,
     "end_time": "2024-08-31T07:51:57.275955",
     "exception": false,
     "start_time": "2024-08-31T07:51:57.263924",
     "status": "completed"
    },
    "tags": []
   },
   "outputs": [],
   "source": []
  },
  {
   "cell_type": "code",
   "execution_count": 10,
   "id": "7ed0b1b3",
   "metadata": {
    "execution": {
     "iopub.execute_input": "2024-08-31T07:51:57.302611Z",
     "iopub.status.busy": "2024-08-31T07:51:57.301610Z",
     "iopub.status.idle": "2024-08-31T07:51:57.402406Z",
     "shell.execute_reply": "2024-08-31T07:51:57.401124Z"
    },
    "papermill": {
     "duration": 0.117149,
     "end_time": "2024-08-31T07:51:57.405284",
     "exception": false,
     "start_time": "2024-08-31T07:51:57.288135",
     "status": "completed"
    },
    "tags": []
   },
   "outputs": [],
   "source": [
    "x_ntrain = np.array(x_ntrain).reshape(-1,IMG_SIZE,IMG_SIZE,1)\n",
    "x_ntest = np.array(x_ntest).reshape(-1,IMG_SIZE,IMG_SIZE,1)"
   ]
  },
  {
   "cell_type": "code",
   "execution_count": 11,
   "id": "ea7e0893",
   "metadata": {
    "execution": {
     "iopub.execute_input": "2024-08-31T07:51:57.431618Z",
     "iopub.status.busy": "2024-08-31T07:51:57.430667Z",
     "iopub.status.idle": "2024-08-31T07:51:57.437053Z",
     "shell.execute_reply": "2024-08-31T07:51:57.436006Z"
    },
    "papermill": {
     "duration": 0.022348,
     "end_time": "2024-08-31T07:51:57.439535",
     "exception": false,
     "start_time": "2024-08-31T07:51:57.417187",
     "status": "completed"
    },
    "tags": []
   },
   "outputs": [],
   "source": [
    "model = Sequential()"
   ]
  },
  {
   "cell_type": "code",
   "execution_count": 12,
   "id": "ca628393",
   "metadata": {
    "execution": {
     "iopub.execute_input": "2024-08-31T07:51:57.465302Z",
     "iopub.status.busy": "2024-08-31T07:51:57.464903Z",
     "iopub.status.idle": "2024-08-31T07:51:57.502858Z",
     "shell.execute_reply": "2024-08-31T07:51:57.501646Z"
    },
    "papermill": {
     "duration": 0.054285,
     "end_time": "2024-08-31T07:51:57.505824",
     "exception": false,
     "start_time": "2024-08-31T07:51:57.451539",
     "status": "completed"
    },
    "tags": []
   },
   "outputs": [
    {
     "name": "stderr",
     "output_type": "stream",
     "text": [
      "/opt/conda/lib/python3.10/site-packages/keras/src/layers/convolutional/base_conv.py:99: UserWarning: Do not pass an `input_shape`/`input_dim` argument to a layer. When using Sequential models, prefer using an `Input(shape)` object as the first layer in the model instead.\n",
      "  super().__init__(\n"
     ]
    }
   ],
   "source": [
    "model.add(Conv2D(64,(3,3),activation='relu', input_shape=x_ntrain.shape[1:]))"
   ]
  },
  {
   "cell_type": "code",
   "execution_count": 13,
   "id": "c45643c3",
   "metadata": {
    "execution": {
     "iopub.execute_input": "2024-08-31T07:51:57.531971Z",
     "iopub.status.busy": "2024-08-31T07:51:57.531539Z",
     "iopub.status.idle": "2024-08-31T07:51:57.542460Z",
     "shell.execute_reply": "2024-08-31T07:51:57.541347Z"
    },
    "papermill": {
     "duration": 0.026629,
     "end_time": "2024-08-31T07:51:57.544842",
     "exception": false,
     "start_time": "2024-08-31T07:51:57.518213",
     "status": "completed"
    },
    "tags": []
   },
   "outputs": [],
   "source": [
    "model.add(MaxPooling2D(pool_size=(2,2)))"
   ]
  },
  {
   "cell_type": "code",
   "execution_count": 14,
   "id": "d50b652f",
   "metadata": {
    "execution": {
     "iopub.execute_input": "2024-08-31T07:51:57.570491Z",
     "iopub.status.busy": "2024-08-31T07:51:57.570123Z",
     "iopub.status.idle": "2024-08-31T07:51:57.594866Z",
     "shell.execute_reply": "2024-08-31T07:51:57.593737Z"
    },
    "papermill": {
     "duration": 0.040735,
     "end_time": "2024-08-31T07:51:57.597596",
     "exception": false,
     "start_time": "2024-08-31T07:51:57.556861",
     "status": "completed"
    },
    "tags": []
   },
   "outputs": [],
   "source": [
    "model.add(Conv2D(64,(3,3),activation='relu'))\n",
    "model.add(MaxPooling2D(pool_size=(2,2)))"
   ]
  },
  {
   "cell_type": "code",
   "execution_count": 15,
   "id": "5e6740bd",
   "metadata": {
    "execution": {
     "iopub.execute_input": "2024-08-31T07:51:57.623640Z",
     "iopub.status.busy": "2024-08-31T07:51:57.623263Z",
     "iopub.status.idle": "2024-08-31T07:51:57.635072Z",
     "shell.execute_reply": "2024-08-31T07:51:57.634048Z"
    },
    "papermill": {
     "duration": 0.027668,
     "end_time": "2024-08-31T07:51:57.637336",
     "exception": false,
     "start_time": "2024-08-31T07:51:57.609668",
     "status": "completed"
    },
    "tags": []
   },
   "outputs": [],
   "source": [
    "model.add(Flatten())"
   ]
  },
  {
   "cell_type": "code",
   "execution_count": 16,
   "id": "9c460f2b",
   "metadata": {
    "execution": {
     "iopub.execute_input": "2024-08-31T07:51:57.662978Z",
     "iopub.status.busy": "2024-08-31T07:51:57.662568Z",
     "iopub.status.idle": "2024-08-31T07:51:57.698108Z",
     "shell.execute_reply": "2024-08-31T07:51:57.696932Z"
    },
    "papermill": {
     "duration": 0.051573,
     "end_time": "2024-08-31T07:51:57.700905",
     "exception": false,
     "start_time": "2024-08-31T07:51:57.649332",
     "status": "completed"
    },
    "tags": []
   },
   "outputs": [],
   "source": [
    "model.add(Dense(64, activation='relu'))\n",
    "model.add(Dense(32, activation='relu'))"
   ]
  },
  {
   "cell_type": "code",
   "execution_count": 17,
   "id": "afea27fc",
   "metadata": {
    "execution": {
     "iopub.execute_input": "2024-08-31T07:51:57.726539Z",
     "iopub.status.busy": "2024-08-31T07:51:57.726171Z",
     "iopub.status.idle": "2024-08-31T07:51:57.747608Z",
     "shell.execute_reply": "2024-08-31T07:51:57.746606Z"
    },
    "papermill": {
     "duration": 0.037249,
     "end_time": "2024-08-31T07:51:57.750239",
     "exception": false,
     "start_time": "2024-08-31T07:51:57.712990",
     "status": "completed"
    },
    "tags": []
   },
   "outputs": [],
   "source": [
    "model.add(Dense(10, activation='softmax'))"
   ]
  },
  {
   "cell_type": "code",
   "execution_count": 18,
   "id": "4cb4effe",
   "metadata": {
    "execution": {
     "iopub.execute_input": "2024-08-31T07:51:57.775881Z",
     "iopub.status.busy": "2024-08-31T07:51:57.775486Z",
     "iopub.status.idle": "2024-08-31T07:51:57.801951Z",
     "shell.execute_reply": "2024-08-31T07:51:57.800634Z"
    },
    "papermill": {
     "duration": 0.041895,
     "end_time": "2024-08-31T07:51:57.804381",
     "exception": false,
     "start_time": "2024-08-31T07:51:57.762486",
     "status": "completed"
    },
    "tags": []
   },
   "outputs": [
    {
     "data": {
      "text/html": [
       "<pre style=\"white-space:pre;overflow-x:auto;line-height:normal;font-family:Menlo,'DejaVu Sans Mono',consolas,'Courier New',monospace\"><span style=\"font-weight: bold\">Model: \"sequential\"</span>\n",
       "</pre>\n"
      ],
      "text/plain": [
       "\u001b[1mModel: \"sequential\"\u001b[0m\n"
      ]
     },
     "metadata": {},
     "output_type": "display_data"
    },
    {
     "data": {
      "text/html": [
       "<pre style=\"white-space:pre;overflow-x:auto;line-height:normal;font-family:Menlo,'DejaVu Sans Mono',consolas,'Courier New',monospace\">┏━━━━━━━━━━━━━━━━━━━━━━━━━━━━━━━━━┳━━━━━━━━━━━━━━━━━━━━━━━━┳━━━━━━━━━━━━━━━┓\n",
       "┃<span style=\"font-weight: bold\"> Layer (type)                    </span>┃<span style=\"font-weight: bold\"> Output Shape           </span>┃<span style=\"font-weight: bold\">       Param # </span>┃\n",
       "┡━━━━━━━━━━━━━━━━━━━━━━━━━━━━━━━━━╇━━━━━━━━━━━━━━━━━━━━━━━━╇━━━━━━━━━━━━━━━┩\n",
       "│ conv2d (<span style=\"color: #0087ff; text-decoration-color: #0087ff\">Conv2D</span>)                 │ (<span style=\"color: #00d7ff; text-decoration-color: #00d7ff\">None</span>, <span style=\"color: #00af00; text-decoration-color: #00af00\">26</span>, <span style=\"color: #00af00; text-decoration-color: #00af00\">26</span>, <span style=\"color: #00af00; text-decoration-color: #00af00\">64</span>)     │           <span style=\"color: #00af00; text-decoration-color: #00af00\">640</span> │\n",
       "├─────────────────────────────────┼────────────────────────┼───────────────┤\n",
       "│ max_pooling2d (<span style=\"color: #0087ff; text-decoration-color: #0087ff\">MaxPooling2D</span>)    │ (<span style=\"color: #00d7ff; text-decoration-color: #00d7ff\">None</span>, <span style=\"color: #00af00; text-decoration-color: #00af00\">13</span>, <span style=\"color: #00af00; text-decoration-color: #00af00\">13</span>, <span style=\"color: #00af00; text-decoration-color: #00af00\">64</span>)     │             <span style=\"color: #00af00; text-decoration-color: #00af00\">0</span> │\n",
       "├─────────────────────────────────┼────────────────────────┼───────────────┤\n",
       "│ conv2d_1 (<span style=\"color: #0087ff; text-decoration-color: #0087ff\">Conv2D</span>)               │ (<span style=\"color: #00d7ff; text-decoration-color: #00d7ff\">None</span>, <span style=\"color: #00af00; text-decoration-color: #00af00\">11</span>, <span style=\"color: #00af00; text-decoration-color: #00af00\">11</span>, <span style=\"color: #00af00; text-decoration-color: #00af00\">64</span>)     │        <span style=\"color: #00af00; text-decoration-color: #00af00\">36,928</span> │\n",
       "├─────────────────────────────────┼────────────────────────┼───────────────┤\n",
       "│ max_pooling2d_1 (<span style=\"color: #0087ff; text-decoration-color: #0087ff\">MaxPooling2D</span>)  │ (<span style=\"color: #00d7ff; text-decoration-color: #00d7ff\">None</span>, <span style=\"color: #00af00; text-decoration-color: #00af00\">5</span>, <span style=\"color: #00af00; text-decoration-color: #00af00\">5</span>, <span style=\"color: #00af00; text-decoration-color: #00af00\">64</span>)       │             <span style=\"color: #00af00; text-decoration-color: #00af00\">0</span> │\n",
       "├─────────────────────────────────┼────────────────────────┼───────────────┤\n",
       "│ flatten (<span style=\"color: #0087ff; text-decoration-color: #0087ff\">Flatten</span>)               │ (<span style=\"color: #00d7ff; text-decoration-color: #00d7ff\">None</span>, <span style=\"color: #00af00; text-decoration-color: #00af00\">1600</span>)           │             <span style=\"color: #00af00; text-decoration-color: #00af00\">0</span> │\n",
       "├─────────────────────────────────┼────────────────────────┼───────────────┤\n",
       "│ dense (<span style=\"color: #0087ff; text-decoration-color: #0087ff\">Dense</span>)                   │ (<span style=\"color: #00d7ff; text-decoration-color: #00d7ff\">None</span>, <span style=\"color: #00af00; text-decoration-color: #00af00\">64</span>)             │       <span style=\"color: #00af00; text-decoration-color: #00af00\">102,464</span> │\n",
       "├─────────────────────────────────┼────────────────────────┼───────────────┤\n",
       "│ dense_1 (<span style=\"color: #0087ff; text-decoration-color: #0087ff\">Dense</span>)                 │ (<span style=\"color: #00d7ff; text-decoration-color: #00d7ff\">None</span>, <span style=\"color: #00af00; text-decoration-color: #00af00\">32</span>)             │         <span style=\"color: #00af00; text-decoration-color: #00af00\">2,080</span> │\n",
       "├─────────────────────────────────┼────────────────────────┼───────────────┤\n",
       "│ dense_2 (<span style=\"color: #0087ff; text-decoration-color: #0087ff\">Dense</span>)                 │ (<span style=\"color: #00d7ff; text-decoration-color: #00d7ff\">None</span>, <span style=\"color: #00af00; text-decoration-color: #00af00\">10</span>)             │           <span style=\"color: #00af00; text-decoration-color: #00af00\">330</span> │\n",
       "└─────────────────────────────────┴────────────────────────┴───────────────┘\n",
       "</pre>\n"
      ],
      "text/plain": [
       "┏━━━━━━━━━━━━━━━━━━━━━━━━━━━━━━━━━┳━━━━━━━━━━━━━━━━━━━━━━━━┳━━━━━━━━━━━━━━━┓\n",
       "┃\u001b[1m \u001b[0m\u001b[1mLayer (type)                   \u001b[0m\u001b[1m \u001b[0m┃\u001b[1m \u001b[0m\u001b[1mOutput Shape          \u001b[0m\u001b[1m \u001b[0m┃\u001b[1m \u001b[0m\u001b[1m      Param #\u001b[0m\u001b[1m \u001b[0m┃\n",
       "┡━━━━━━━━━━━━━━━━━━━━━━━━━━━━━━━━━╇━━━━━━━━━━━━━━━━━━━━━━━━╇━━━━━━━━━━━━━━━┩\n",
       "│ conv2d (\u001b[38;5;33mConv2D\u001b[0m)                 │ (\u001b[38;5;45mNone\u001b[0m, \u001b[38;5;34m26\u001b[0m, \u001b[38;5;34m26\u001b[0m, \u001b[38;5;34m64\u001b[0m)     │           \u001b[38;5;34m640\u001b[0m │\n",
       "├─────────────────────────────────┼────────────────────────┼───────────────┤\n",
       "│ max_pooling2d (\u001b[38;5;33mMaxPooling2D\u001b[0m)    │ (\u001b[38;5;45mNone\u001b[0m, \u001b[38;5;34m13\u001b[0m, \u001b[38;5;34m13\u001b[0m, \u001b[38;5;34m64\u001b[0m)     │             \u001b[38;5;34m0\u001b[0m │\n",
       "├─────────────────────────────────┼────────────────────────┼───────────────┤\n",
       "│ conv2d_1 (\u001b[38;5;33mConv2D\u001b[0m)               │ (\u001b[38;5;45mNone\u001b[0m, \u001b[38;5;34m11\u001b[0m, \u001b[38;5;34m11\u001b[0m, \u001b[38;5;34m64\u001b[0m)     │        \u001b[38;5;34m36,928\u001b[0m │\n",
       "├─────────────────────────────────┼────────────────────────┼───────────────┤\n",
       "│ max_pooling2d_1 (\u001b[38;5;33mMaxPooling2D\u001b[0m)  │ (\u001b[38;5;45mNone\u001b[0m, \u001b[38;5;34m5\u001b[0m, \u001b[38;5;34m5\u001b[0m, \u001b[38;5;34m64\u001b[0m)       │             \u001b[38;5;34m0\u001b[0m │\n",
       "├─────────────────────────────────┼────────────────────────┼───────────────┤\n",
       "│ flatten (\u001b[38;5;33mFlatten\u001b[0m)               │ (\u001b[38;5;45mNone\u001b[0m, \u001b[38;5;34m1600\u001b[0m)           │             \u001b[38;5;34m0\u001b[0m │\n",
       "├─────────────────────────────────┼────────────────────────┼───────────────┤\n",
       "│ dense (\u001b[38;5;33mDense\u001b[0m)                   │ (\u001b[38;5;45mNone\u001b[0m, \u001b[38;5;34m64\u001b[0m)             │       \u001b[38;5;34m102,464\u001b[0m │\n",
       "├─────────────────────────────────┼────────────────────────┼───────────────┤\n",
       "│ dense_1 (\u001b[38;5;33mDense\u001b[0m)                 │ (\u001b[38;5;45mNone\u001b[0m, \u001b[38;5;34m32\u001b[0m)             │         \u001b[38;5;34m2,080\u001b[0m │\n",
       "├─────────────────────────────────┼────────────────────────┼───────────────┤\n",
       "│ dense_2 (\u001b[38;5;33mDense\u001b[0m)                 │ (\u001b[38;5;45mNone\u001b[0m, \u001b[38;5;34m10\u001b[0m)             │           \u001b[38;5;34m330\u001b[0m │\n",
       "└─────────────────────────────────┴────────────────────────┴───────────────┘\n"
      ]
     },
     "metadata": {},
     "output_type": "display_data"
    },
    {
     "data": {
      "text/html": [
       "<pre style=\"white-space:pre;overflow-x:auto;line-height:normal;font-family:Menlo,'DejaVu Sans Mono',consolas,'Courier New',monospace\"><span style=\"font-weight: bold\"> Total params: </span><span style=\"color: #00af00; text-decoration-color: #00af00\">142,442</span> (556.41 KB)\n",
       "</pre>\n"
      ],
      "text/plain": [
       "\u001b[1m Total params: \u001b[0m\u001b[38;5;34m142,442\u001b[0m (556.41 KB)\n"
      ]
     },
     "metadata": {},
     "output_type": "display_data"
    },
    {
     "data": {
      "text/html": [
       "<pre style=\"white-space:pre;overflow-x:auto;line-height:normal;font-family:Menlo,'DejaVu Sans Mono',consolas,'Courier New',monospace\"><span style=\"font-weight: bold\"> Trainable params: </span><span style=\"color: #00af00; text-decoration-color: #00af00\">142,442</span> (556.41 KB)\n",
       "</pre>\n"
      ],
      "text/plain": [
       "\u001b[1m Trainable params: \u001b[0m\u001b[38;5;34m142,442\u001b[0m (556.41 KB)\n"
      ]
     },
     "metadata": {},
     "output_type": "display_data"
    },
    {
     "data": {
      "text/html": [
       "<pre style=\"white-space:pre;overflow-x:auto;line-height:normal;font-family:Menlo,'DejaVu Sans Mono',consolas,'Courier New',monospace\"><span style=\"font-weight: bold\"> Non-trainable params: </span><span style=\"color: #00af00; text-decoration-color: #00af00\">0</span> (0.00 B)\n",
       "</pre>\n"
      ],
      "text/plain": [
       "\u001b[1m Non-trainable params: \u001b[0m\u001b[38;5;34m0\u001b[0m (0.00 B)\n"
      ]
     },
     "metadata": {},
     "output_type": "display_data"
    }
   ],
   "source": [
    "model.summary()"
   ]
  },
  {
   "cell_type": "code",
   "execution_count": 19,
   "id": "8ff78ad0",
   "metadata": {
    "execution": {
     "iopub.execute_input": "2024-08-31T07:51:57.831888Z",
     "iopub.status.busy": "2024-08-31T07:51:57.831477Z",
     "iopub.status.idle": "2024-08-31T07:51:57.845256Z",
     "shell.execute_reply": "2024-08-31T07:51:57.844191Z"
    },
    "papermill": {
     "duration": 0.030716,
     "end_time": "2024-08-31T07:51:57.847986",
     "exception": false,
     "start_time": "2024-08-31T07:51:57.817270",
     "status": "completed"
    },
    "tags": []
   },
   "outputs": [],
   "source": [
    "model.compile(loss='sparse_categorical_crossentropy', optimizer='adam', metrics=['accuracy'])"
   ]
  },
  {
   "cell_type": "code",
   "execution_count": 20,
   "id": "491c353c",
   "metadata": {
    "execution": {
     "iopub.execute_input": "2024-08-31T07:51:57.875474Z",
     "iopub.status.busy": "2024-08-31T07:51:57.875085Z",
     "iopub.status.idle": "2024-08-31T07:52:42.888376Z",
     "shell.execute_reply": "2024-08-31T07:52:42.887190Z"
    },
    "papermill": {
     "duration": 45.030065,
     "end_time": "2024-08-31T07:52:42.891037",
     "exception": false,
     "start_time": "2024-08-31T07:51:57.860972",
     "status": "completed"
    },
    "tags": []
   },
   "outputs": [
    {
     "name": "stdout",
     "output_type": "stream",
     "text": [
      "\u001b[1m1875/1875\u001b[0m \u001b[32m━━━━━━━━━━━━━━━━━━━━\u001b[0m\u001b[37m\u001b[0m \u001b[1m45s\u001b[0m 23ms/step - accuracy: 0.9021 - loss: 0.3105\n"
     ]
    },
    {
     "data": {
      "text/plain": [
       "<keras.src.callbacks.history.History at 0x7eaedc3b87f0>"
      ]
     },
     "execution_count": 20,
     "metadata": {},
     "output_type": "execute_result"
    }
   ],
   "source": [
    "model.fit(x_ntrain,y_train,epochs=1)"
   ]
  },
  {
   "cell_type": "code",
   "execution_count": 21,
   "id": "a42f2687",
   "metadata": {
    "execution": {
     "iopub.execute_input": "2024-08-31T07:52:43.041473Z",
     "iopub.status.busy": "2024-08-31T07:52:43.041048Z",
     "iopub.status.idle": "2024-08-31T07:52:45.820598Z",
     "shell.execute_reply": "2024-08-31T07:52:45.819475Z"
    },
    "papermill": {
     "duration": 2.858452,
     "end_time": "2024-08-31T07:52:45.823451",
     "exception": false,
     "start_time": "2024-08-31T07:52:42.964999",
     "status": "completed"
    },
    "tags": []
   },
   "outputs": [
    {
     "name": "stdout",
     "output_type": "stream",
     "text": [
      "\u001b[1m313/313\u001b[0m \u001b[32m━━━━━━━━━━━━━━━━━━━━\u001b[0m\u001b[37m\u001b[0m \u001b[1m3s\u001b[0m 8ms/step\n"
     ]
    }
   ],
   "source": [
    "y_pred = model.predict([x_ntest])"
   ]
  },
  {
   "cell_type": "code",
   "execution_count": 22,
   "id": "a8d07079",
   "metadata": {
    "execution": {
     "iopub.execute_input": "2024-08-31T07:52:45.984134Z",
     "iopub.status.busy": "2024-08-31T07:52:45.983720Z",
     "iopub.status.idle": "2024-08-31T07:52:45.990664Z",
     "shell.execute_reply": "2024-08-31T07:52:45.989605Z"
    },
    "papermill": {
     "duration": 0.089705,
     "end_time": "2024-08-31T07:52:45.993012",
     "exception": false,
     "start_time": "2024-08-31T07:52:45.903307",
     "status": "completed"
    },
    "tags": []
   },
   "outputs": [
    {
     "data": {
      "text/plain": [
       "(10000, 10)"
      ]
     },
     "execution_count": 22,
     "metadata": {},
     "output_type": "execute_result"
    }
   ],
   "source": [
    "y_pred.shape"
   ]
  },
  {
   "cell_type": "raw",
   "id": "16aa5395",
   "metadata": {
    "papermill": {
     "duration": 0.14098,
     "end_time": "2024-08-31T07:52:46.214457",
     "exception": false,
     "start_time": "2024-08-31T07:52:46.073477",
     "status": "completed"
    },
    "tags": []
   },
   "source": [
    "y_pred[0]"
   ]
  },
  {
   "cell_type": "code",
   "execution_count": null,
   "id": "51b658c5",
   "metadata": {
    "papermill": {
     "duration": 0.078525,
     "end_time": "2024-08-31T07:52:46.374599",
     "exception": false,
     "start_time": "2024-08-31T07:52:46.296074",
     "status": "completed"
    },
    "tags": []
   },
   "outputs": [],
   "source": []
  },
  {
   "cell_type": "code",
   "execution_count": 23,
   "id": "8e981bfd",
   "metadata": {
    "execution": {
     "iopub.execute_input": "2024-08-31T07:52:46.533893Z",
     "iopub.status.busy": "2024-08-31T07:52:46.533476Z",
     "iopub.status.idle": "2024-08-31T07:52:46.541897Z",
     "shell.execute_reply": "2024-08-31T07:52:46.540766Z"
    },
    "papermill": {
     "duration": 0.090761,
     "end_time": "2024-08-31T07:52:46.544259",
     "exception": false,
     "start_time": "2024-08-31T07:52:46.453498",
     "status": "completed"
    },
    "tags": []
   },
   "outputs": [
    {
     "data": {
      "text/plain": [
       "array([[8.5150891e-09, 5.6007485e-07, 4.2101628e-06, ..., 9.9999481e-01,\n",
       "        8.2318525e-09, 3.1355329e-09],\n",
       "       [1.0058009e-09, 2.9369209e-08, 9.9999994e-01, ..., 8.8306099e-12,\n",
       "        2.3610672e-11, 1.5300968e-15],\n",
       "       [7.6355918e-06, 9.9965370e-01, 1.6006557e-05, ..., 5.7350557e-05,\n",
       "        3.2458673e-05, 6.6929738e-07],\n",
       "       ...,\n",
       "       [9.1776260e-11, 8.8470129e-09, 6.6574713e-13, ..., 2.6476090e-09,\n",
       "        6.7738144e-09, 1.6441459e-06],\n",
       "       [3.8582790e-08, 7.0645484e-08, 1.1454795e-07, ..., 2.0135707e-10,\n",
       "        1.5645245e-06, 2.5560092e-07],\n",
       "       [9.8817382e-06, 2.9575381e-06, 2.2941420e-05, ..., 7.0474648e-10,\n",
       "        1.7057984e-05, 5.1240217e-08]], dtype=float32)"
      ]
     },
     "execution_count": 23,
     "metadata": {},
     "output_type": "execute_result"
    }
   ],
   "source": [
    "y_pred"
   ]
  },
  {
   "cell_type": "code",
   "execution_count": 24,
   "id": "40270290",
   "metadata": {
    "execution": {
     "iopub.execute_input": "2024-08-31T07:52:46.704609Z",
     "iopub.status.busy": "2024-08-31T07:52:46.703640Z",
     "iopub.status.idle": "2024-08-31T07:52:46.710803Z",
     "shell.execute_reply": "2024-08-31T07:52:46.709648Z"
    },
    "papermill": {
     "duration": 0.090297,
     "end_time": "2024-08-31T07:52:46.713391",
     "exception": false,
     "start_time": "2024-08-31T07:52:46.623094",
     "status": "completed"
    },
    "tags": []
   },
   "outputs": [
    {
     "data": {
      "text/plain": [
       "(10000, 10)"
      ]
     },
     "execution_count": 24,
     "metadata": {},
     "output_type": "execute_result"
    }
   ],
   "source": [
    "y_pred.shape"
   ]
  },
  {
   "cell_type": "code",
   "execution_count": 25,
   "id": "5964a0b6",
   "metadata": {
    "execution": {
     "iopub.execute_input": "2024-08-31T07:52:46.877876Z",
     "iopub.status.busy": "2024-08-31T07:52:46.876659Z",
     "iopub.status.idle": "2024-08-31T07:52:46.884860Z",
     "shell.execute_reply": "2024-08-31T07:52:46.883744Z"
    },
    "papermill": {
     "duration": 0.094217,
     "end_time": "2024-08-31T07:52:46.887370",
     "exception": false,
     "start_time": "2024-08-31T07:52:46.793153",
     "status": "completed"
    },
    "tags": []
   },
   "outputs": [
    {
     "data": {
      "text/plain": [
       "array([8.5150891e-09, 5.6007485e-07, 4.2101628e-06, 3.9904813e-07,\n",
       "       6.7452977e-09, 2.5906022e-10, 2.5857166e-16, 9.9999481e-01,\n",
       "       8.2318525e-09, 3.1355329e-09], dtype=float32)"
      ]
     },
     "execution_count": 25,
     "metadata": {},
     "output_type": "execute_result"
    }
   ],
   "source": [
    "y_pred[0]"
   ]
  },
  {
   "cell_type": "code",
   "execution_count": 26,
   "id": "a1f7ba4a",
   "metadata": {
    "execution": {
     "iopub.execute_input": "2024-08-31T07:52:47.050089Z",
     "iopub.status.busy": "2024-08-31T07:52:47.049656Z",
     "iopub.status.idle": "2024-08-31T07:52:47.055076Z",
     "shell.execute_reply": "2024-08-31T07:52:47.053763Z"
    },
    "papermill": {
     "duration": 0.090286,
     "end_time": "2024-08-31T07:52:47.057564",
     "exception": false,
     "start_time": "2024-08-31T07:52:46.967278",
     "status": "completed"
    },
    "tags": []
   },
   "outputs": [],
   "source": [
    "y_npred = np.zeros(y_pred.shape[0])"
   ]
  },
  {
   "cell_type": "code",
   "execution_count": 27,
   "id": "4c696218",
   "metadata": {
    "execution": {
     "iopub.execute_input": "2024-08-31T07:52:47.221171Z",
     "iopub.status.busy": "2024-08-31T07:52:47.220760Z",
     "iopub.status.idle": "2024-08-31T07:52:47.227913Z",
     "shell.execute_reply": "2024-08-31T07:52:47.226850Z"
    },
    "papermill": {
     "duration": 0.092745,
     "end_time": "2024-08-31T07:52:47.230384",
     "exception": false,
     "start_time": "2024-08-31T07:52:47.137639",
     "status": "completed"
    },
    "tags": []
   },
   "outputs": [
    {
     "data": {
      "text/plain": [
       "array([0., 0., 0., ..., 0., 0., 0.])"
      ]
     },
     "execution_count": 27,
     "metadata": {},
     "output_type": "execute_result"
    }
   ],
   "source": [
    "y_npred"
   ]
  },
  {
   "cell_type": "code",
   "execution_count": 28,
   "id": "b2fba0ce",
   "metadata": {
    "execution": {
     "iopub.execute_input": "2024-08-31T07:52:47.393157Z",
     "iopub.status.busy": "2024-08-31T07:52:47.392754Z",
     "iopub.status.idle": "2024-08-31T07:52:47.445889Z",
     "shell.execute_reply": "2024-08-31T07:52:47.444703Z"
    },
    "papermill": {
     "duration": 0.137198,
     "end_time": "2024-08-31T07:52:47.448554",
     "exception": false,
     "start_time": "2024-08-31T07:52:47.311356",
     "status": "completed"
    },
    "tags": []
   },
   "outputs": [
    {
     "data": {
      "text/plain": [
       "array([7., 2., 1., ..., 4., 5., 6.])"
      ]
     },
     "execution_count": 28,
     "metadata": {},
     "output_type": "execute_result"
    }
   ],
   "source": [
    "for y in range(y_pred.shape[0]):\n",
    "    y_npred[y] = np.argmax(y_pred[y])\n",
    "y_npred"
   ]
  },
  {
   "cell_type": "code",
   "execution_count": 29,
   "id": "8676e73c",
   "metadata": {
    "execution": {
     "iopub.execute_input": "2024-08-31T07:52:47.610799Z",
     "iopub.status.busy": "2024-08-31T07:52:47.610346Z",
     "iopub.status.idle": "2024-08-31T07:52:47.620097Z",
     "shell.execute_reply": "2024-08-31T07:52:47.618735Z"
    },
    "papermill": {
     "duration": 0.094348,
     "end_time": "2024-08-31T07:52:47.622616",
     "exception": false,
     "start_time": "2024-08-31T07:52:47.528268",
     "status": "completed"
    },
    "tags": []
   },
   "outputs": [
    {
     "data": {
      "text/plain": [
       "0.9831"
      ]
     },
     "execution_count": 29,
     "metadata": {},
     "output_type": "execute_result"
    }
   ],
   "source": [
    "accuracy_score(y_test,y_npred)"
   ]
  },
  {
   "cell_type": "code",
   "execution_count": null,
   "id": "a3826281",
   "metadata": {
    "papermill": {
     "duration": 0.079738,
     "end_time": "2024-08-31T07:52:47.782636",
     "exception": false,
     "start_time": "2024-08-31T07:52:47.702898",
     "status": "completed"
    },
    "tags": []
   },
   "outputs": [],
   "source": []
  }
 ],
 "metadata": {
  "kaggle": {
   "accelerator": "none",
   "dataSources": [],
   "dockerImageVersionId": 30698,
   "isGpuEnabled": false,
   "isInternetEnabled": true,
   "language": "python",
   "sourceType": "notebook"
  },
  "kernelspec": {
   "display_name": "Python 3",
   "language": "python",
   "name": "python3"
  },
  "language_info": {
   "codemirror_mode": {
    "name": "ipython",
    "version": 3
   },
   "file_extension": ".py",
   "mimetype": "text/x-python",
   "name": "python",
   "nbconvert_exporter": "python",
   "pygments_lexer": "ipython3",
   "version": "3.10.13"
  },
  "papermill": {
   "default_parameters": {},
   "duration": 75.42999,
   "end_time": "2024-08-31T07:52:49.589427",
   "environment_variables": {},
   "exception": null,
   "input_path": "__notebook__.ipynb",
   "output_path": "__notebook__.ipynb",
   "parameters": {},
   "start_time": "2024-08-31T07:51:34.159437",
   "version": "2.5.0"
  }
 },
 "nbformat": 4,
 "nbformat_minor": 5
}
